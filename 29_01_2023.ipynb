{
  "nbformat": 4,
  "nbformat_minor": 0,
  "metadata": {
    "colab": {
      "provenance": [],
      "authorship_tag": "ABX9TyOHOMd9RBUx/tvufD4G1nK4",
      "include_colab_link": true
    },
    "kernelspec": {
      "name": "python3",
      "display_name": "Python 3"
    },
    "language_info": {
      "name": "python"
    }
  },
  "cells": [
    {
      "cell_type": "markdown",
      "metadata": {
        "id": "view-in-github",
        "colab_type": "text"
      },
      "source": [
        "<a href=\"https://colab.research.google.com/github/pratyagithub/Pratyasha_aiml_2001206057/blob/main/29_01_2023.ipynb\" target=\"_parent\"><img src=\"https://colab.research.google.com/assets/colab-badge.svg\" alt=\"Open In Colab\"/></a>"
      ]
    },
    {
      "cell_type": "code",
      "execution_count": null,
      "metadata": {
        "id": "2LjnKfOI4RmB"
      },
      "outputs": [],
      "source": []
    },
    {
      "cell_type": "markdown",
      "source": [
        ".INPUT RADIUS FINDS AREA OF CIRCLEAND PERIMETER OF THE CIRCE\n"
      ],
      "metadata": {
        "id": "QYEhJTAy4Tgn"
      }
    },
    {
      "cell_type": "code",
      "source": [
        "r=int(input(\"ENTER RADIUS OF THE CIRCLE: \"))\n",
        "area=3.141*r*r\n",
        "perimeter=2*3.141*r\n",
        "print(\"THE AREA OF CIRCLE OF GIVEN CIRCLE IS=\",area)\n",
        "print(\"THE PERIMETER OF CIRCLE OF GIVEN CIRCLE IS=\",perimeter)\n"
      ],
      "metadata": {
        "colab": {
          "base_uri": "https://localhost:8080/"
        },
        "id": "LHshXcLn4pPw",
        "outputId": "397febaf-8b49-45a5-9252-ec6dd9a32910"
      },
      "execution_count": 1,
      "outputs": [
        {
          "output_type": "stream",
          "name": "stdout",
          "text": [
            "ENTER RADIUS OF THE CIRCLE: 45\n",
            "THE AREA OF CIRCLE OF GIVEN CIRCLE IS= 6360.525\n",
            "THE PERIMETER OF CIRCLE OF GIVEN CIRCLE IS= 282.69\n"
          ]
        }
      ]
    },
    {
      "cell_type": "markdown",
      "source": [
        "INPUT KILOMETER CONVERTS TO CENTIMETER,METER AND MILIMETER\n"
      ],
      "metadata": {
        "id": "4T54ID1M4935"
      }
    },
    {
      "cell_type": "code",
      "source": [
        "km=float(input(\"ENTER KILOMETER VALUE= \"))\n",
        "m=km*1000\n",
        "cm=km*100000\n",
        "mm=km*1000000\n",
        "print(\"THE GIVEN KILOMETER IN METER IS=\",m)\n",
        "print(\"THE GIVEN KILOMETER IN CENTIMETER IS=\",cm)\n",
        "print(\"THE GIVEN KILOMETER IN MILIMETER IS=\",mm)"
      ],
      "metadata": {
        "colab": {
          "base_uri": "https://localhost:8080/"
        },
        "id": "HYUB7vHy5ET4",
        "outputId": "9226506e-dcf8-49eb-9d3b-3e2d9a6efbca"
      },
      "execution_count": 2,
      "outputs": [
        {
          "output_type": "stream",
          "name": "stdout",
          "text": [
            "ENTER KILOMETER VALUE= 58\n",
            "THE GIVEN KILOMETER IN METER IS= 58000.0\n",
            "THE GIVEN KILOMETER IN CENTIMETER IS= 5800000.0\n",
            "THE GIVEN KILOMETER IN MILIMETER IS= 58000000.0\n"
          ]
        }
      ]
    },
    {
      "cell_type": "markdown",
      "source": [
        "INPUT TWO NUMBERS FIND SUM WITHOUT '+' OPERATOR\n"
      ],
      "metadata": {
        "id": "I-0hCYEj5Odt"
      }
    },
    {
      "cell_type": "code",
      "source": [
        "a=int(input(\"ENTER a VALUE=\"))\n",
        "b=int(input(\"ENTER b VALUE=\"))\n",
        "def sum(a,b):\n",
        "    for i in range(1,b + 1):\n",
        "        a= a+1\n",
        "    return a\n",
        "print('SUM OF NUMBERS=',sum(a,b))"
      ],
      "metadata": {
        "colab": {
          "base_uri": "https://localhost:8080/"
        },
        "id": "12IxJJu65T3C",
        "outputId": "476454da-7f1d-4928-d08f-763cf23f0b9c"
      },
      "execution_count": 3,
      "outputs": [
        {
          "output_type": "stream",
          "name": "stdout",
          "text": [
            "ENTER a VALUE=21\n",
            "ENTER b VALUE=35\n",
            "SUM OF NUMBERS= 56\n"
          ]
        }
      ]
    },
    {
      "cell_type": "markdown",
      "source": [
        "INPUT TWO NUMBERS FIND REMAINDER WITHOUT '%\n"
      ],
      "metadata": {
        "id": "WsCYOAdR5dT3"
      }
    },
    {
      "cell_type": "code",
      "source": [
        "a=int(input(\"ENTER a VALUE=\"))\n",
        "b=int(input(\"ENTER b VALUE=\"))\n",
        "def rem(a,b):\n",
        "    return(a-b*(a//b))\n",
        "print(\"THE REMAINDER IS=\",rem(a,b))"
      ],
      "metadata": {
        "colab": {
          "base_uri": "https://localhost:8080/"
        },
        "id": "4Ocy7KUe5kcy",
        "outputId": "de2d25a2-89f2-4502-8044-7a65108c0c56"
      },
      "execution_count": 4,
      "outputs": [
        {
          "output_type": "stream",
          "name": "stdout",
          "text": [
            "ENTER a VALUE=78\n",
            "ENTER b VALUE=45\n",
            "THE REMAINDER IS= 33\n"
          ]
        }
      ]
    },
    {
      "cell_type": "markdown",
      "source": [
        "INPUT TEMPERATURE FINDS CELSIUS AND FAHRENHEIT AND VICE-VERSA\n"
      ],
      "metadata": {
        "id": "Ki3Yk1NB5u8A"
      }
    },
    {
      "cell_type": "code",
      "source": [
        "Celsius=float(input(\"Enter the celsius value: \"))\n",
        "Fahrenheit =(Celsius * 1.8) + 32\n",
        "print(\"The Value in Fahrenheit\", Fahrenheit)\n",
        "Fahrenheit_f=float(input(\"Enter fahrenheit the value : \"))\n",
        "Celsius_c=int((Fahrenheit_f - 32) / 1.8)\n",
        "print(\"The value in celsius\",Celsius_c)"
      ],
      "metadata": {
        "colab": {
          "base_uri": "https://localhost:8080/"
        },
        "id": "UghNGWBw51ua",
        "outputId": "026d4405-7ecc-45c5-c943-98ac66e99008"
      },
      "execution_count": 5,
      "outputs": [
        {
          "output_type": "stream",
          "name": "stdout",
          "text": [
            "Enter the celsius value: 98\n",
            "The Value in Fahrenheit 208.4\n",
            "Enter fahrenheit the value : 64\n",
            "The value in celsius 17\n"
          ]
        }
      ]
    },
    {
      "cell_type": "markdown",
      "source": [
        "INPUT A NUMBER FINDS REVERSE NUMBER WITHOUT LOOPING STRUCTURE\n"
      ],
      "metadata": {
        "id": "1vXk4fC-6AIx"
      }
    },
    {
      "cell_type": "code",
      "source": [
        "n=int(input(\"Enter the number: \"))\n",
        "rev=int(str(n)[::-1])\n",
        "print(\"The reverse of the given number is:\",rev)"
      ],
      "metadata": {
        "colab": {
          "base_uri": "https://localhost:8080/"
        },
        "id": "xWL3wmd76EQL",
        "outputId": "cc1923b0-89d8-47fd-ba35-1a5bb98e2c69"
      },
      "execution_count": 6,
      "outputs": [
        {
          "output_type": "stream",
          "name": "stdout",
          "text": [
            "Enter the number: 11\n",
            "The reverse of the given number is: 11\n"
          ]
        }
      ]
    },
    {
      "cell_type": "markdown",
      "source": [
        "\n"
      ],
      "metadata": {
        "id": "qR6WkV5J6Ue8"
      }
    }
  ]
}